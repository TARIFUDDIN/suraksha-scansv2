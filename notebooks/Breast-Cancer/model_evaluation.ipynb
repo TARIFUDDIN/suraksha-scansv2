{
 "cells": [
  {
   "cell_type": "code",
   "execution_count": null,
   "id": "482f6cdb",
   "metadata": {},
   "outputs": [],
   "source": [
    "import pandas as pd             # Pandas\n",
    "import numpy as np              # NumPy\n",
    "import matplotlib.pyplot as plt # Matplotlib\n",
    "import seaborn as sns           # Seaborn\n",
    "\n",
    "# scikit-learn\n",
    "from sklearn.metrics import confusion_matrix, classification_report\n",
    "\n",
    "# Keras\n",
    "import keras\n",
    "from keras.models import load_model\n",
    "from keras.preprocessing.image import ImageDataGenerator\n",
    "from keras.preprocessing import image"
   ]
  }
 ],
 "metadata": {
  "language_info": {
   "name": "python"
  }
 },
 "nbformat": 4,
 "nbformat_minor": 5
}
